{
 "cells": [
  {
   "cell_type": "markdown",
   "metadata": {},
   "source": [
    "# Profitable App Profiles for the App Store and Google Play Markets\n",
    "Everyone uses apps. Today, I will determine which type of app is best for profitability.\n",
    "\n",
    "#### Assumptions:\n",
    "For this analysis, I assume that ad revenue will be our primary source of revenue. Therefore, I will only focus on free apps. \n",
    "\n",
    "Additionally, I assume that the number of users of an app directly determines how much exposure our sponsors' ads have. Therefore, I will focus on apps that have high numbers of users.\n",
    "\n",
    "#### Method:\n",
    "I will analyze data from the Google Play Store and the Apple App Store to determine which type of app has the most users of free apps."
   ]
  },
  {
   "cell_type": "code",
   "execution_count": 1,
   "metadata": {},
   "outputs": [],
   "source": [
    "from csv import reader\n",
    "\n",
    "file = open('/Users/admin/Downloads/_DATASCIENCE PROJECTS - GUIDED/Project 1 | App Profile Recommendation/Apple App Store Apps/AppleStore.csv')\n",
    "read = reader(file)\n",
    "ios_data = list(read)"
   ]
  },
  {
   "cell_type": "code",
   "execution_count": 2,
   "metadata": {},
   "outputs": [],
   "source": [
    "file = open('/Users/admin/Downloads/_DATASCIENCE PROJECTS - GUIDED/Project 1 | App Profile Recommendation/Google App Store Apps/googleplaystore.csv')\n",
    "read = reader(file)\n",
    "google_data = list(read)"
   ]
  },
  {
   "cell_type": "code",
   "execution_count": 3,
   "metadata": {},
   "outputs": [
    {
     "name": "stdout",
     "output_type": "stream",
     "text": [
      "['', 'id', 'track_name', 'size_bytes', 'currency', 'price', 'rating_count_tot', 'rating_count_ver', 'user_rating', 'user_rating_ver', 'ver', 'cont_rating', 'prime_genre', 'sup_devices.num', 'ipadSc_urls.num', 'lang.num', 'vpp_lic']\n",
      "\n",
      "\n",
      "['1', '281656475', 'PAC-MAN Premium', '100788224', 'USD', '3.99', '21292', '26', '4', '4.5', '6.3.5', '4+', 'Games', '38', '5', '10', '1']\n",
      "\n",
      "\n",
      "['2', '281796108', 'Evernote - stay organized', '158578688', 'USD', '0', '161065', '26', '4', '3.5', '8.2.2', '4+', 'Productivity', '37', '5', '23', '1']\n",
      "\n",
      "\n",
      "['3', '281940292', 'WeatherBug - Local Weather, Radar, Maps, Alerts', '100524032', 'USD', '0', '188583', '2822', '3.5', '4.5', '5.0.0', '4+', 'Weather', '37', '5', '3', '1']\n",
      "\n",
      "\n",
      "['4', '282614216', 'eBay: Best App to Buy, Sell, Save! Online Shopping', '128512000', 'USD', '0', '262241', '649', '4', '4.5', '5.10.0', '12+', 'Shopping', '37', '5', '9', '1']\n",
      "\n",
      "\n",
      "['5', '282935706', 'Bible', '92774400', 'USD', '0', '985920', '5320', '4.5', '5', '7.5.1', '4+', 'Reference', '37', '5', '45', '1']\n",
      "\n",
      "\n",
      "Number of rows minus the header: 7197\n",
      "Number of columns: 17\n"
     ]
    }
   ],
   "source": [
    "def explore_data(dataset, start, end, rows_and_columns=False):\n",
    "    dataset_slice = dataset[start:end]    \n",
    "    for row in dataset_slice:\n",
    "        print(row)\n",
    "        print('\\n')\n",
    "\n",
    "    if rows_and_columns:\n",
    "        print('Number of rows minus the header:', len(dataset) - 1)\n",
    "        print('Number of columns:', len(dataset[0]))\n",
    "        \n",
    "explore_data(ios_data, 0, 6, True)"
   ]
  },
  {
   "cell_type": "code",
   "execution_count": 4,
   "metadata": {},
   "outputs": [
    {
     "name": "stdout",
     "output_type": "stream",
     "text": [
      "['App', 'Category', 'Rating', 'Reviews', 'Size', 'Installs', 'Type', 'Price', 'Content Rating', 'Genres', 'Last Updated', 'Current Ver', 'Android Ver']\n",
      "\n",
      "\n",
      "['Photo Editor & Candy Camera & Grid & ScrapBook', 'ART_AND_DESIGN', '4.1', '159', '19M', '10,000+', 'Free', '0', 'Everyone', 'Art & Design', 'January 7, 2018', '1.0.0', '4.0.3 and up']\n",
      "\n",
      "\n",
      "['Coloring book moana', 'ART_AND_DESIGN', '3.9', '967', '14M', '500,000+', 'Free', '0', 'Everyone', 'Art & Design;Pretend Play', 'January 15, 2018', '2.0.0', '4.0.3 and up']\n",
      "\n",
      "\n",
      "['U Launcher Lite – FREE Live Cool Themes, Hide Apps', 'ART_AND_DESIGN', '4.7', '87510', '8.7M', '5,000,000+', 'Free', '0', 'Everyone', 'Art & Design', 'August 1, 2018', '1.2.4', '4.0.3 and up']\n",
      "\n",
      "\n",
      "['Sketch - Draw & Paint', 'ART_AND_DESIGN', '4.5', '215644', '25M', '50,000,000+', 'Free', '0', 'Teen', 'Art & Design', 'June 8, 2018', 'Varies with device', '4.2 and up']\n",
      "\n",
      "\n",
      "['Pixel Draw - Number Art Coloring Book', 'ART_AND_DESIGN', '4.3', '967', '2.8M', '100,000+', 'Free', '0', 'Everyone', 'Art & Design;Creativity', 'June 20, 2018', '1.1', '4.4 and up']\n",
      "\n",
      "\n",
      "Number of rows minus the header: 10841\n",
      "Number of columns: 13\n"
     ]
    }
   ],
   "source": [
    "explore_data(google_data, 0, 6, True)"
   ]
  },
  {
   "cell_type": "markdown",
   "metadata": {},
   "source": [
    "## Data Exploration\n",
    "After exploring the data briefly, I can see that there are: \n",
    "\n",
    "7197 rows\\* in the Apple App Store Data, &\n",
    "\n",
    "10841 rows\\* in the Google Play Store Data.\n",
    "\n",
    "\\*non-header rows\n",
    "\n",
    "## Data Cleaning (a)\n",
    "The data has been obtained through open source on Kaggle.com. The discussion section of the Google Play Store data indicates that there is a data entry error at row 10473. I will clear that data.\n",
    "\n",
    "Additionally, I will determine the number of duplicate rows in each dataset. Wherever there are duplicates, I will determine which duplicate has more reviews (since that indicates newer data) and only keep that one."
   ]
  },
  {
   "cell_type": "code",
   "execution_count": 5,
   "metadata": {},
   "outputs": [
    {
     "name": "stdout",
     "output_type": "stream",
     "text": [
      "['Life Made WI-Fi Touchscreen Photo Frame', '1.9', '19', '3.0M', '1,000+', 'Free', '0', 'Everyone', '', 'February 11, 2018', '1.0.19', '4.0 and up']\n",
      "['osmino Wi-Fi: free WiFi', 'TOOLS', '4.2', '134203', '4.1M', '10,000,000+', 'Free', '0', 'Everyone', 'Tools', 'August 7, 2018', '6.06.14', '4.4 and up']\n"
     ]
    }
   ],
   "source": [
    "print(google_data[10473])\n",
    "del google_data[10473]\n",
    "print(google_data[10473])"
   ]
  },
  {
   "cell_type": "code",
   "execution_count": 6,
   "metadata": {},
   "outputs": [
    {
     "name": "stdout",
     "output_type": "stream",
     "text": [
      "There are 2 duplicates in the Apple App Store.\n",
      "There are 1181 duplicates in the Google Play Store.\n",
      "\n",
      "The duplicate apps in the IOS store are: \n",
      "\n",
      "['VR Roller Coaster', 'Mannequin Challenge']\n",
      "\n",
      "And the duplicate apps in the Google Play Store are: \n",
      "\n",
      "['Quick PDF Scanner + OCR FREE', 'Box', 'Google My Business', 'ZOOM Cloud Meetings', 'join.me - Simple Meetings', 'Box', 'Zenefits', 'Google Ads', 'Google My Business', 'Slack', 'FreshBooks Classic', 'Insightly CRM', 'QuickBooks Accounting: Invoicing & Expenses', 'HipChat - Chat Built for Teams', 'Xero Accounting Software', 'MailChimp - Email, Marketing Automation', 'Crew - Free Messaging and Scheduling', 'Asana: organize team projects', 'Google Analytics', 'AdWords Express', 'Accounting App - Zoho Books', 'Invoice & Time Tracking - Zoho', 'join.me - Simple Meetings', 'Invoice 2go — Professional Invoices and Estimates', 'SignEasy | Sign and Fill PDF and other Documents', 'Quick PDF Scanner + OCR FREE', 'Genius Scan - PDF Scanner', 'Tiny Scanner - PDF Scanner App', 'Fast Scanner : Free PDF Scan', 'Mobile Doc Scanner (MDScan) Lite', 'TurboScan: scan documents and receipts in PDF', 'Tiny Scanner Pro: PDF Doc Scan', 'Docs To Go™ Free Office Suite', 'OfficeSuite : Free Office + PDF Editor', 'Slack', 'QuickBooks Accounting: Invoicing & Expenses', 'WhatsApp Messenger', 'Messenger – Text and Video Chat for Free', 'imo free video calls and chat', 'Viber Messenger', 'Hangouts', 'WeChat', 'Telegram', 'Who', 'Google Voice', 'Android Messages', 'Firefox Focus: The privacy browser', 'Google Allo', 'Google Chrome: Fast & Secure', 'Firefox Browser fast & private', 'Puffin Web Browser', 'Opera Browser: Fast and Secure', 'Opera Mini - fast web browser', 'UC Browser Mini -Tiny Fast Private & Secure', 'UC Browser - Fast Download Private & Secure', 'Calls & Text by Mo+', 'Viber Messenger', 'Call Blocker', 'Gmail', 'Yahoo Mail – Stay Organized', 'Hangouts', 'imo free video calls and chat', 'free video calls and chat', 'Viber Messenger', 'Skype - free IM & video calls', 'WeChat', 'Glide - Video Chat Messenger', 'Talkray - Free Calls & Texts', 'LINE: Free Calls & Messages', 'KakaoTalk: Free Calls & Text', 'OkCupid Dating', 'CMB Free Dating App', 'Hily: Dating, Chat, Match, Meet & Hook up', 'Hinge: Dating & Relationships', 'BBW Dating & Plus Size Chat', 'Casual Dating & Adult Singles - Joyride', 'EliteSingles – Dating for Single Professionals', 'Clover Dating App', 'Moco - Chat, Meet People', 'Hot or Not - Find someone right now', 'Just She - Top Lesbian Dating', 'Once - Quality Matches Every day', 'Sudy – Meet Elite & Rich Single', 'muzmatch: Muslim & Arab Singles, Marriage & Dating', 'Chispa, the Dating App for Latino, Latina Singles', 'Blendr - Chat, Flirt & Meet', 'Find Real Love — YouLove Premium Dating', 'Cougar Dating Life : Date Older Women Sugar Mummy', 'stranger chat - anonymous chat', 'Millionaire Match: Rich Singles Dating App', 'Dating for 50 plus Mature Singles – FINALLY', 'Moco+ - Chat, Meet People', 'Chat Rooms, Avatars, Date - Galaxy', 'FastMeet: Chat, Dating, Love', 'Christian Dating For Free App', 'Meet24 - Love, Chat, Singles', 'Black White Interracial Dating - Interracial Match', 'Gay Sugar Daddy Dating & Hookup – Sudy Gay', 'Adult Dirty Emojis', 'Hide App, Private Dating, Safe Chat - PrivacyHider', 'Meet4U - Chat, Love, Singles!', '95Live -SG#1 Live Streaming App', 'Just She - Top Lesbian Dating', 'Hily: Dating, Chat, Match, Meet & Hook up', 'O-Star', 'Random Video Chat', 'Black People Meet Singles Date', 'Howlr', 'Free Dating & Flirt Chat - Choice of Love', 'Cardi B Live Stream Video Chat - Prank', 'Chat Kids - Chat Room For Kids', 'muzmatch: Muslim & Arab Singles, Marriage & Dating', 'BBW Dating & Plus Size Chat', 'Transenger – Ts Dating and Chat for Free', 'BBW Dating & Curvy Singles Chat- LargeFriends', 'MouseMingle', 'FlirtChat - ♥Free Dating/Flirting App♥', 'Live Talk - Free Text and Video Chat', 'Adult Dirty Emojis', 'Free Cam Girls - Live Webcam', 'Random Video Chat App With Strangers', 'Live Girls Talk - Free Video Chat', 'Girls Live Chat - Free Text & Video Chat', 'Free Dating App - Meet Local Singles - Flirt Chat', 'iPair-Meet, Chat, Dating', 'Free Dating Hook Up Messenger', 'Free Dating App - YoCutie - Flirt, Chat & Meet', 'Khan Academy', 'TED', 'Lumosity: #1 Brain Games & Cognitive Training App', 'Udemy - Online Courses', 'Khan Academy', 'TED', 'Duolingo: Learn Languages Free', 'Quizlet: Learn Languages & Vocab with Flashcards', 'Coursera: Online courses', 'Udemy - Online Courses', 'Udacity - Lifelong Learning', 'edX - Online Courses by Harvard, MIT & more', 'Lynda - Online Training Videos', 'Learn languages, grammar & vocabulary with Memrise', 'Brilliant', 'Babbel – Learn Languages', 'Duolingo: Learn Languages Free', 'Rosetta Stone: Learn to Speak & Read New Languages', 'Learn languages, grammar & vocabulary with Memrise', 'Learn English with Wlingua', 'Quizlet: Learn Languages & Vocab with Flashcards', 'Google Classroom', 'Duolingo: Learn Languages Free', 'Learn 50 languages', 'Mango Languages: Lovable Language Courses', 'Rosetta Stone: Learn to Speak & Read New Languages', 'Learn languages, grammar & vocabulary with Memrise', 'Babbel – Learn Languages', 'busuu: Learn Languages - Spanish, English & More', 'My Class Schedule: Timetable', 'Socratic - Math Answers & Homework Help', 'Google Classroom', 'ClassDojo', 'HelloTalk — Chat, Speak & Learn Foreign Languages', 'Quizlet: Learn Languages & Vocab with Flashcards', 'busuu: Learn Languages - Spanish, English & More', 'Rosetta Stone: Learn to Speak & Read New Languages', 'Movies by Flixster, with Rotten Tomatoes', 'IMDb Movies & TV', 'Netflix', 'IMDb Movies & TV', 'Netflix', 'Tubi TV - Free Movies & TV', 'Crunchyroll - Everything Anime', 'STARZ', 'Crackle - Free TV & Movies', 'CBS - Full Episodes & Live TV', 'Nick', 'Hulu: Stream TV, Movies & more', 'FOX NOW - On Demand & Live TV', 'The CW', 'HISTORY: Watch TV Show Full Episodes & Specials', 'HBO NOW: Stream TV & Movies', 'A&E - Watch Full Episodes of TV Shows', 'VH1', 'Lifetime - Watch Full Episodes & Original Movies', 'BET NOW - Watch Shows', 'Netflix', 'Tubi TV - Free Movies & TV', 'Crackle - Free TV & Movies', 'Crunchyroll - Everything Anime', 'Nick', 'STARZ', 'Hulu: Stream TV, Movies & more', 'Food Network', 'FOX NOW - On Demand & Live TV', 'Movies by Flixster, with Rotten Tomatoes', 'HISTORY: Watch TV Show Full Episodes & Specials', 'Viki: Asian TV Dramas & Movies', 'The CW', 'Univision NOW - Live TV and On Demand', 'HBO NOW: Stream TV & Movies', 'A&E - Watch Full Episodes of TV Shows', 'VH1', 'SHOWTIME', 'MTV', 'Lifetime - Watch Full Episodes & Original Movies', 'Comedy Central', 'BET NOW - Watch Shows', 'FOX', 'Telemundo Now', 'Viki: Asian TV Dramas & Movies', 'Nick', 'Fandango Movies - Times + Tickets', 'Google Pay', 'Wells Fargo Daily Change', 'Credit Karma', 'Robinhood - Investing, No Fees', 'Digit Save Money Automatically', 'Acorns - Invest Spare Change', 'Money Lover: Expense Tracker, Budget Planner', 'Mint: Budget, Bills, Finance', 'Simple - Better Banking', 'PayPal', 'Google Pay', 'Wells Fargo Mobile', 'Capital One® Mobile', 'Grubhub: Food Delivery', 'Postmates Food Delivery: Order Eats & Alcohol', \"Domino's Pizza USA\", 'Chick-fil-A', 'Zomato - Restaurant Finder and Food Delivery App', 'Run with Map My Run', 'Weight Loss Running by Verv', 'Nike+ Run Club', 'Runtastic Running App & Mile Tracker', '8fit Workouts & Meal Planner', 'Daily Yoga - Yoga Fitness Plans', 'Pocket Yoga', 'Calorie Counter - MyFitnessPal', 'Weight Loss Running by Verv', 'Nike+ Run Club', 'Seven - 7 Minute Workout Training Challenge', 'Weight Watchers Mobile', 'Walk with Map My Walk', 'Workout Trainer: fitness coach', 'Run with Map My Run', 'Nike Training Club - Workouts & Fitness Plans', 'Fitbit Coach', 'Calorie Counter - MyFitnessPal', 'Endomondo - Running & Walking', 'Runkeeper - GPS Track Run Walk', 'Nike+ Run Club', 'Runtastic Running App & Mile Tracker', 'Calorie Counter - MyFitnessPal', 'Lose It! - Calorie Counter', 'Calorie Counter - MyNetDiary', '10 Best Foods for You', 'MyPlate Calorie Tracker', 'Weight Loss Tracker - RecStyle', 'Calorie Counter by FatSecret', 'Calorie Counter - Macros', 'My Diet Diary Calorie Counter', 'Lark - 24/7 Health Coach', 'Weight Watchers Mobile', 'Calorie Counter & Diet Tracker', 'MealLogger-Photo Food Journal', 'Health and Nutrition Guide', 'Food Calorie Calculator', 'Calorie Counter - MyFitnessPal', 'Lose It! - Calorie Counter', 'Relax Meditation: Sleep with Sleep Sounds', 'Meditation Music - Relax, Yoga', '21-Day Meditation Experience', 'Fabulous: Motivate Me! Meditate, Relax, Sleep', 'Calm - Meditate, Sleep, Relax', 'Relax Melodies: Sleep Sounds', 'Simple Habit Meditation', 'Headspace: Meditation & Mindfulness', 'Daily Yoga - Yoga Fitness Plans', 'Houzz Interior Design Ideas', 'Mortgage by Zillow: Calculator & Rates', 'Redfin Real Estate', 'Apartment List: Housing, Apt, and Property Rentals', 'Realtor.com Real Estate: Homes for Sale and Rent', 'Trulia Real Estate & Rentals', 'Zillow: Find Houses for Sale & Apartments for Rent', 'Apartments & Rentals - Zillow', 'Trulia Rent Apartments & Homes', 'Apartments.com Rental Search', 'Houzz Interior Design Ideas', 'Vaniday - Beauty Booking App', 'StyleSeat', 'JOANN - Crafts & Coupons', 'Fashion in Vogue', 'Wheretoget: Shop in style', 'My Dressing - Fashion closet', 'Chictopia', 'Scarf Fashion Designer', 'Fashion in Vogue', 'Zara', 'Subway Surfers', 'ROBLOX', 'Pou', '8 Ball Pool', 'Clash of Clans', 'Candy Crush Saga', 'Plants vs. Zombies FREE', 'My Talking Angela', 'Bubble Shooter', 'Word Search', 'Candy Crush Soda Saga', 'Fishdom', 'Block Puzzle', 'Clash Royale', 'Sniper 3D Gun Shooter: Free Shooting Games - FPS', 'Granny', 'Galaxy Attack: Alien Shooter', 'Angry Birds Rio', 'Zombie Catchers', 'Zombie Hunter King', 'Temple Run 2', 'Zombie Tsunami', 'Farm Heroes Saga', 'Super Jim Jump - pixel 3d', 'slither.io', 'Angry Birds Classic', 'Flow Free', 'ROBLOX', 'Helix Jump', 'Subway Surfers', 'Candy Crush Saga', 'Toon Blast', 'Granny', '8 Ball Pool', 'Sniper 3D Gun Shooter: Free Shooting Games - FPS', 'slither.io', 'Temple Run 2', 'Kick the Buddy', 'Magic Tiles 3', 'Bowmasters', 'Wordscapes', 'Block Craft 3D: Building Simulator Games For Free', 'Helix Jump', 'PUBG MOBILE', 'Wordscapes', 'DRAGON BALL LEGENDS', 'ROBLOX', 'Candy Crush Saga', '8 Ball Pool', 'Harry Potter: Hogwarts Mystery', 'PUBG MOBILE', 'MARVEL Strike Force', 'Merge Dragons!', 'Honkai Impact 3rd', 'Candy Crush Saga', 'ROBLOX', '8 Ball Pool', 'Subway Surfers', 'Candy Crush Soda Saga', 'Zombie Hunter King', 'Bubble Shooter', 'Toon Blast', 'Toy Blast', 'Clash Royale', 'Clash of Clans', 'Farm Heroes Saga', 'Plants vs. Zombies FREE', 'Word Search', 'Block Puzzle', 'Super Jim Jump - pixel 3d', 'Pou', 'Temple Run 2', 'Flow Free', 'Homescapes', 'Wordscapes', 'My Talking Angela', 'slither.io', 'Cooking Fever', 'Gardenscapes', 'Fishdom', 'Galaxy Attack: Alien Shooter', 'Score! Hero', 'Zombie Catchers', 'Magic Tiles 3', 'Granny', 'Dream League Soccer 2018', 'Fruits Bomb', 'Angry Birds Classic', 'Talking Tom Gold Run', 'Bowmasters', 'My Talking Tom', 'Hill Climb Racing', 'Sniper 3D Gun Shooter: Free Shooting Games - FPS', 'Pixel Art: Color by Number Game', 'Rider', 'Zombie Tsunami', 'Garena Free Fire', 'Subway Surfers', 'Helix Jump', 'Temple Run 2', 'slither.io', 'Bowmasters', 'Talking Tom Gold Run', 'Zombie Catchers', 'Sniper 3D Gun Shooter: Free Shooting Games - FPS', 'Miraculous Ladybug & Cat Noir - The Official Game', 'Kick the Buddy', 'DRAGON BALL LEGENDS', 'Zombie Hunter King', 'Garena Free Fire', 'Candy Crush Saga', 'Plants vs. Zombies FREE', 'Block Puzzle', 'Helix Jump', '8 Ball Pool', 'Bubble Shooter', 'Solitaire', 'Traffic Racer', 'Hill Climb Racing', 'Earn to Die 2', 'Bubble Shooter 2', 'Flow Free', 'Zombie Catchers', 'Angry Birds Rio', 'Candy Crush Jelly Saga', 'Cut the Rope FULL FREE', 'Jewels Star: OZ adventure', 'Hungry Shark Evolution', 'Angry Birds Classic', 'Best Fiends - Free Puzzle Game', 'Hill Climb Racing 2', 'Swamp Attack', 'Bowmasters', 'Magic Tiles 3', 'Block Puzzle Classic Legend !', 'Pixel Art: Color by Number Game', 'Score! Hero', 'Zombie Tsunami', 'DEAD TARGET: FPS Zombie Apocalypse Survival Games', 'Word Search', 'Farm Heroes Saga', 'YouTube Kids', 'Candy Bomb', 'ROBLOX', 'Solitaire', 'Princess Coloring Book', 'Hello Kitty Nail Salon', 'Dog Run - Pet Dog Simulator', 'Coloring book moana', 'Bubble Shooter', 'Barbie™ Fashion Closet', 'Minion Rush: Despicable Me Official Game', 'No.Draw - Colors by Number 2018', 'Duolingo: Learn Languages Free', 'Super ABC! Learning games for kids! Preschool apps', 'ROBLOX', 'PJ Masks: Moonlight Heroes', 'Minion Rush: Despicable Me Official Game', 'Dog Run - Pet Dog Simulator', 'Hot Wheels: Race Off', 'Farming Simulator 14', 'Mcqueen Coloring pages', 'Monster Truck Driver & Racing', 'Strawberry Shortcake BerryRush', 'DC Super Hero Girls™', 'Toca Kitchen 2', 'DC Super Hero Girls™', 'Strawberry Shortcake BerryRush', 'Disney Magic Kingdoms: Build Your Own Magical Park', 'Toca Life: City', 'Papumba Academy - Fun Learning For Kids', 'Kids Balloon Pop Game Free 🎈', 'Sounds for Toddlers FREE', 'Elmo Calls by Sesame Street', 'Sago Mini Friends', 'Papumba Academy - Fun Learning For Kids', 'Tee and Mo Bath Time Free', 'Bita and the Animals - Pelos Ares', 'TO-FU Oh!SUSHI', 'DreamWorks Friends', 'Avokiddo Emotions', 'Nighty Night Circus', 'Sago Mini Babies', \"Dr. Panda & Toto's Treehouse\", 'ROBLOX', 'PlayKids - Educational cartoons and games for kids', 'YouTube Kids', 'Baby Panda Care', 'Monster High™', 'Duolingo: Learn Languages Free', 'Shopkins World!', 'DisneyNOW – TV Shows & Games', 'Equestria Girls', 'Frozen Free Fall', 'Nick', 'Thomas & Friends: Race On!', 'Inside Out Thought Bubbles', 'Sago Mini Friends', 'School of Dragons', 'Peak – Brain Games & Training', 'Period Tracker', 'Vargo Anesthesia Mega App', 'Monash Uni Low FODMAP Diet', 'mySugr: the blood sugar tracker made just for you', 'Human Anatomy Atlas 2018: Complete 3D Human Body', 'ASCCP Mobile', 'Paramedic Protocol Provider', '2017 EMRA Antibiotic Guide', 'Essential Anatomy 3', 'EMT PASS', 'Block Buddy', 'EMT Review Plus', 'Journal Club: Medicine', 'Pedi STAT', 'AnatomyMapp', 'Diabetes & Diet Tracker', 'A Manual of Acupuncture', 'PTA Content Master', 'Muscle Premium - Human Anatomy, Kinesiology, Bones', 'Cardiac diagnosis (heart rate, arrhythmia)', 'Medical ID - In Case of Emergency (ICE)', 'IBM Micromedex Drug Info', 'Advanced Comprehension Therapy', 'Hospitalist Handbook', 'Teladoc Member', 'Ada - Your Health Guide', 'Ovia Fertility Tracker & Ovulation Calculator', 'Youper - AI Therapy', 'MoodSpace', 'Super Hearing Super Ear Amplifier', 'Penn State Health OnDemand', 'ScriptSave WellRx Rx Discounts', 'Free Blood Pressure', 'All Mental disorders', 'Nurse Grid', 'JH Blood Pressure Monitor', 'Blood Pressure', 'RT 516 VET', 'Anthem Anywhere', 'Sway Medical', \"fred's Pharmacy\", 'Breastfeeding Tracker Baby Log', 'Banfield Pet Health Tracker', '1800 Contacts - Lens Store', 'TextNow - free text + calls', 'Tumblr', 'Snapchat', 'Instagram', 'Periscope - Live Video', 'Snapchat', 'Instagram', 'Pinterest', 'MeetMe: Chat & Meet New People', 'ooVoo Video Calls, Messaging & Stories', 'LinkedIn', 'Tango - Live Video Broadcast', 'SayHi Chat, Meet New People', 'Tapatalk - 100,000+ Forums', 'Badoo - Free Chat & Dating App', 'Nextdoor - Local neighborhood news & classifieds', 'MeetMe: Chat & Meet New People', 'Meetup', 'Text Free: WiFi Calling App', 'textPlus: Free Text & Calls', 'Meetup', 'POF Free Dating App', 'MeetMe: Chat & Meet New People', 'Tagged - Meet, Chat & Dating', 'LOVOO', 'SKOUT - Meet, Chat, Go Live', 'Badoo - Free Chat & Dating App', 'Jaumo Dating, Flirt & Live Video', 'SayHi Chat, Meet New People', 'Couple - Relationship App', 'Meetup', 'Wish - Shopping Made Fun', 'SnipSnap Coupon App', 'Extreme Coupon Finder', 'Checkout 51: Grocery coupons', 'The Coupons App', 'RetailMeNot - Coupons, Deals & Discount Shopping', 'Groupon - Shop Deals, Discounts & Coupons', 'Stocard - Rewards Cards Wallet', 'Extreme Coupon Finder', 'eBay: Buy & Sell this Summer - Discover Deals Now!', 'Checkout 51: Grocery coupons', 'Gyft - Mobile Gift Card Wallet', 'Shopkick: Free Gift Cards, Shop Rewards & Deals', 'The Coupons App', 'Shopular: Coupons, Weekly Ads & Shopping Deals', 'Wish - Shopping Made Fun', 'Carousell: Snap-Sell, Chat-Buy', 'Walmart', 'Ibotta: Cash Back Savings, Rewards & Coupons App', 'AliExpress - Smarter Shopping, Better Living', 'LivingSocial - Local Deals', 'Amazon Shopping', 'RetailMeNot - Coupons, Deals & Discount Shopping', 'Poshmark - Buy & Sell Fashion', 'Target - now with Cartwheel', 'ZALORA Fashion Shopping', 'eBay: Buy & Sell this Summer - Discover Deals Now!', 'Fancy', \"Modcloth – Unique Indie Women's Fashion & Style\", 'Gyft - Mobile Gift Card Wallet', \"JackThreads: Men's Shopping\", 'LivingSocial - Local Deals', 'Zappos – Shoe shopping made simple', 'Wanelo Shopping', 'Etsy: Handmade & Vintage Goods', 'Groupon - Shop Deals, Discounts & Coupons', 'eBay: Buy & Sell this Summer - Discover Deals Now!', \"JackThreads: Men's Shopping\", 'AliExpress - Smarter Shopping, Better Living', 'Slickdeals: Coupons & Shopping', 'Target - now with Cartwheel', 'Wish - Shopping Made Fun', 'Fancy', 'ASOS', 'Google Photos', 'Shutterfly: Free Prints, Photo Books, Cards, Gifts', 'InstaBeauty -Makeup Selfie Cam', 'B612 - Beauty & Filter Camera', 'BeautyPlus - Easy Photo Editor & Selfie Camera', 'YouCam Perfect - Selfie Photo Editor', 'Google Photos', 'Muzy - Share photos & collages', 'QuickPic - Photo Gallery with Google Drive Support', 'Flickr', 'Shutterfly: Free Prints, Photo Books, Cards, Gifts', 'Open Camera', 'Camera for Android', 'Cymera Camera- Photo Editor, Filter,Collage,Layout', 'Candy Camera - selfie, beauty camera, photo editor', 'Camera360: Selfie Photo Editor with Funny Sticker', 'Facetune - For Free', 'Photo Editor Selfie Camera Filter & Mirror Image', 'HD Camera for Android', 'Photo Editor Pro', 'YouCam Makeup - Magic Selfie Makeovers', 'Photo Editor-', 'Camera for Android', 'Photo Editor', 'Cymera Camera- Photo Editor, Filter,Collage,Layout', 'Adobe Photoshop Express:Photo Editor Collage Maker', 'BeautyPlus - Easy Photo Editor & Selfie Camera', 'InstaSize Photo Filters & Collage Editor', 'Candy Camera - selfie, beauty camera, photo editor', 'YouCam Perfect - Selfie Photo Editor', 'Camera360: Selfie Photo Editor with Funny Sticker', 'Facetune - For Free', 'Shutterfly: Free Prints, Photo Books, Cards, Gifts', 'BeautyPlus - Easy Photo Editor & Selfie Camera', 'CBS Sports App - Scores, News, Stats & Watch Live', 'Yahoo Fantasy Sports - #1 Rated Fantasy App', 'ESPN', 'NFL', 'Bleacher Report: sports news, scores, & highlights', 'ESPN Fantasy Sports', 'theScore: Live Sports Scores, News, Stats & Videos', 'CBS Sports App - Scores, News, Stats & Watch Live', 'ESPN', 'MLB At Bat', 'CBS Sports App - Scores, News, Stats & Watch Live', 'WatchESPN', 'Hole19: Golf GPS App, Rangefinder & Scorecard', 'Yahoo Fantasy Sports - #1 Rated Fantasy App', 'ESPN Fantasy Sports', 'CBS Sports Fantasy', 'ESPN', 'Bleacher Report: sports news, scores, & highlights', 'theScore: Live Sports Scores, News, Stats & Videos', 'CBS Sports App - Scores, News, Stats & Watch Live', 'ESPN', 'Bleacher Report: sports news, scores, & highlights', 'MLB At Bat', 'theScore: Live Sports Scores, News, Stats & Videos', 'CBS Sports App - Scores, News, Stats & Watch Live', 'Yahoo Sports - scores, stats, news, & highlights', 'WatchESPN', 'FotMob - Live Soccer Scores', 'Yahoo Fantasy Sports - #1 Rated Fantasy App', 'ESPN', 'NFL', 'US Open Tennis Championships 2018', 'Bleacher Report: sports news, scores, & highlights', 'MLB At Bat', 'FIFA - Tournaments, Soccer News & Live Scores', 'theScore: Live Sports Scores, News, Stats & Videos', 'Golfshot: Golf GPS + Tee Times', 'BBC Sport', 'CBS Sports App - Scores, News, Stats & Watch Live', 'Yahoo Sports - scores, stats, news, & highlights', 'WatchESPN', 'MLB Ballpark', 'FOX Sports: Live Streaming, Scores & News', 'Fantasy Football', 'PGA TOUR', 'UFC', 'trivago: Hotels & Travel', 'Expedia Hotels, Flights & Car Rental Travel Deals', 'TripAdvisor Hotels Flights Restaurants Attractions', 'Skyscanner', 'Booking.com Travel Deals', 'TripAdvisor Hotels Flights Restaurants Attractions', 'Priceline Hotel Deals, Rental Cars & Flights', 'United Airlines', 'Expedia Hotels, Flights & Car Rental Travel Deals', 'Southwest Airlines', 'Hopper - Watch & Book Flights', 'Fly Delta', 'KAYAK Flights, Hotels & Cars', 'American Airlines', 'Skyscanner', 'Priceline Hotel Deals, Rental Cars & Flights', 'trivago: Hotels & Travel', 'Expedia Hotels, Flights & Car Rental Travel Deals', 'KAYAK Flights, Hotels & Cars', 'Orbitz - Hotels, Flights & Package Deals', 'Skyscanner', 'Hotels.com: Book Hotel Rooms & Find Vacation Deals', 'Booking.com Travel Deals', 'Hostelworld: Hostels & Cheap Hotels Travel App', 'TripAdvisor Hotels Flights Restaurants Attractions', 'Airbnb', 'Skyscanner', 'HotelTonight: Book amazing deals at great hotels', 'Maps - Navigate & Explore', 'Google Street View', 'Calculator', 'Gboard - the Google Keyboard', 'ZEDGE™ Ringtones & Wallpapers', 'ZEDGE™ Ringtones & Wallpapers', 'Nova Launcher', 'Apex Launcher', 'Smart Launcher 5', 'Google Keep', 'Evernote – Organizer, Planner for Notes & Memos', 'ES File Explorer File Manager', 'Microsoft Word', 'Google Drive', 'Adobe Acrobat Reader', 'Google PDF Viewer', 'Microsoft Excel', 'Google Docs', 'Microsoft PowerPoint', 'Microsoft OneNote', 'Google Calendar', 'Google Keep', 'Wunderlist: To-Do List & Tasks', 'Evernote – Organizer, Planner for Notes & Memos', 'Any.do: To-do list, Calendar, Reminders & Planner', 'Todoist: To-do lists for task management & errands', 'Microsoft OneNote', 'Planner Pro-Personal Organizer', 'Google Calendar', 'Google Drive', 'Microsoft OneDrive', 'Dropbox', 'MX Player', 'Video Editor', 'Google News', 'Flipboard: News For Our Time', 'BBC News', 'Fox News – Breaking News, Live Video & News Alerts', 'USA TODAY', 'CNN Breaking US & World News', 'Twitter', 'BBC News', 'NPR News', 'Fox News – Breaking News, Live Video & News Alerts', 'Haystack TV: Local & World News - Free', 'ABC News - US & World News', 'USA TODAY', 'NBC News', 'The Wall Street Journal: Business & Market News', 'CNN Breaking US & World News', 'NYTimes - Latest News', 'Newsroom: News Worth Sharing', 'Google News', 'BuzzFeed: News, Tasty, Quizzes', 'Flipboard: News For Our Time', 'Snapchat', 'Flashlight', 'Pou', 'Agar.io', 'Angry Birds Classic', 'My Talking Tom', 'Netflix', 'Bubble Shooter', 'Adobe Acrobat Reader', 'Subway Surfers', 'LEGO® Juniors Create & Cruise', 'WhatsApp Messenger', 'Google Translate', 'Pokémon GO', 'Instagram', 'My Talking Angela', 'YouTube Kids', 'PAC-MAN', 'Colorfy: Coloring Book for Adults - Free', 'Toca Kitchen 2', 'Amazon Shopping', 'Chick-fil-A', 'YouTube', 'Flow Free', 'Microsoft Word', \"Alto's Adventure\", 'Zombie Tsunami', 'Facebook', 'B612 - Beauty & Filter Camera', 'Block Craft 3D: Building Simulator Games For Free', '8 Ball Pool', 'VPN Free - Betternet Hotspot VPN & Private Browser', 'EMT Tutor NREMT-B Study Guide', 'EMT-B Pocket Prep', 'UC Browser - Fast Download Private & Secure', 'Hungry Shark Evolution', 'Diary with lock', 'Clash of Clans', 'Clash Royale', 'C Programming', 'CppDroid - C/C++ IDE', 'Candy Crush Saga', 'Google Chrome: Fast & Secure', 'Learn C++', 'Hill Climb Racing', 'ZEDGE™ Ringtones & Wallpapers', 'Minion Rush: Despicable Me Official Game', 'Google Duo - High Quality Video Calls', 'Crossy Road', 'Temple Run 2', 'Dropbox', 'Sniper 3D Gun Shooter: Free Shooting Games - FPS', 'Plants vs. Zombies FREE', 'Dream League Soccer 2018', 'eBay: Buy & Sell this Summer - Discover Deals Now!', 'ESPN', 'ES File Explorer File Manager', 'Firefox Browser fast & private', 'E*TRADE Mobile', 'WWE', 'Amazon Kindle', 'Evernote – Organizer, Planner for Notes & Memos', 'Microsoft Edge', 'Microsoft Outlook', 'Pinterest', 'ClassDojo', 'The Coupons App', 'Ebook Reader', 'Gmail', 'Maps - Navigate & Explore', 'AliExpress - Smarter Shopping, Better Living', 'Flipkart Online Shopping App', 'Wish - Shopping Made Fun', 'Messenger – Text and Video Chat for Free', 'Facebook Lite', 'Messenger Lite: Free Calls & Messages', 'Twitter', 'LINE: Free Calls & Messages', 'imo beta free calls and text', 'Geometry Dash World', 'Google+', 'PUBG MOBILE', 'Gboard - the Google Keyboard', 'Granny', 'Google', 'Hangouts', 'G Cloud Backup', 'Google Drive', 'Helix Jump', 'H&M', 'H TV', 'Talking Ben the Dog', 'imo free video calls and chat', 'free video calls and chat', 'slither.io', 'POF Free Dating App', 'Skype - free IM & video calls', 'Sonic Dash', 'Text Free: WiFi Calling App', 'Talkatone: Free Texts, Calls & Phone Number', 'Textgram - write on photos', 'Zombie Catchers', 'Jetpack Joyride', 'Anger of stick 5 : zombie', 'Cut the Rope FULL FREE', 'Turbo FAST', 'K PLUS', 'PowerDirector Video Editor App: 4K, Slow Mo & More', 'Fuzzy Numbers: Pre-K Number Foundation', 'KakaoTalk: Free Calls & Text', 'LiveMe - Video chat, new friends, and make money', 'Talking Tom Gold Run', 'letgo: Buy & Sell Used Stuff, Cars & Real Estate', 'Love Balls', 'Last Day on Earth: Survival', 'Minecraft', 'MEGA', 'MX Player', 'I’m Expecting - Pregnancy App', 'Diabetes:M', 'Opera Mini - fast web browser', 'Opera Browser: Fast and Secure', 'O-Star', 'PicsArt Photo Studio: Collage Maker & Pic Editor', 'Quora', 'ROBLOX', 'SHAREit - Transfer & Share', 'Tumblr', 'Topbuzz: Breaking News, Videos & Funny GIFs', 'Twitch: Livestream Multiplayer Games & Esports', 'Telegram', 'myAT&T', 'Truecaller: Caller ID, SMS spam blocking & Dialer', 'Showtime Anytime', 'UC Browser Mini -Tiny Fast Private & Secure', 'Uber', 'Viber Messenger', 'VLC for Android', 'Vigo Video', 'WeChat', 'Wattpad 📖 Free Books', 'Waze - GPS, Maps, Traffic Alerts & Live Navigation', 'Dating App, Flirt & Chat : W-Match', 'WPS Office - Word, Docs, PDF, Note, Slide & Sheet', 'LINE WEBTOON - Free Comics', 'WhatsApp Business', 'We Heart It', 'TripAdvisor Hotels Flights Restaurants Attractions', 'Telegram X', 'Share Music & Transfer Files - Xender', 'Yandex Browser with Protect', 'YouTube Studio', 'Yahoo Mail – Stay Organized', 'PBS KIDS Video', 'YouTube Gaming', 'GO Keyboard - Emoticon keyboard, Free Theme, GIF', 'Zello PTT Walkie Talkie', 'Z Camera - Photo Editor, Beauty Selfie, Collage', 'Six Pack in 30 Days - Abs Workout', 'Angry Birds 2', 'Angry Birds Rio', 'AC - Tips & News for Android™', 'CM Browser - Ad Blocker , Fast Download , Privacy', 'Google Ads', 'Mobi Calculator free & AD free!', 'Flipp - Weekly Shopping', 'A&E - Watch Full Episodes of TV Shows', 'Camera FV-5 Lite', 'Cardiac diagnosis (heart rate, arrhythmia)', 'Open Camera', 'All Football - Latest News & Videos', 'Maricopa AH', 'Youper - AI Therapy', 'Animal Jam - Play Wild!', 'RULES OF SURVIVAL', 'Amazon for Tablets', 'Final Fantasy XV: A New Empire', 'The Sims™ FreePlay', 'Text free - Free Text + Call', 'Google Photos', '365Scores - Live Scores', 'DINO HUNTER: DEADLY SHORES', 'AP Mobile - Breaking News', 'Reuters News', 'Puffin Web Browser', 'AccuWeather: Daily Forecast & Live Weather Reports', 'Moovit: Bus Time & Train Time Live Info', 'Jurassic World™ Alive', 'Houzz Interior Design Ideas', 'NYTimes - Latest News', 'Overstock – Home Decor, Furniture Shopping', 'Google Voice', 'Choices: Stories You Play', 'Runtastic Sleep Better: Sleep Cycle & Smart Alarm', 'Google Pay', 'Ringtone Maker', 'Google Allo', 'Plants vs. Zombies™ Heroes', 'CM FILE MANAGER HD', 'MLB At Bat', 'HotelTonight: Book amazing deals at great hotels', 'realestate.com.au - Buy, Rent & Sell Property', 'Video Player All Format', 'DEER HUNTER 2018', 'Video Editor', 'Google Play Games', 'ai.type Free Emoji Keyboard', 'Manga AZ - Manga Comic Reader', 'British Airways', 'American Airlines', 'Anthem BC Anywhere', 'Transit: Real-Time Transit App', 'PMHNP-BC Pocket Prep', 'BeautyPlus - Easy Photo Editor & Selfie Camera', 'Bowmasters', 'Nick', 'mySugr: the blood sugar tracker made just for you', 'Backgrounds HD (Wallpapers)', 'Blur Image Background', 'Newegg Mobile', 'Moco - Chat, Meet People', 'Hot or Not - Find someone right now', 'MeetMe: Chat & Meet New People', 'TED', 'English Dictionary - Offline', 'OkCupid Dating', 'Mint: Budget, Bills, Finance', 'English Grammar Test', 'Daily Manga - Comic & Webtoon', 'BBM - Free Calls & Messages', 'BeyondMenu Food Delivery', 'NOOK: Read eBooks & Magazines', 'NOOK App for NOOK Devices', 'Badoo - Free Chat & Dating App', 'HBO GO: Stream with TV Package', 'No Crop & Square for Instagram', 'Hungry Shark World', 'iBP Blood Pressure', 'Blood Pressure', 'Blood Pressure Log - MyDiary', 'Blood Pressure(BP) Diary', 'BP Journal - Blood Pressure Diary', 'Blood Pressure Monitor', 'Blood Pressure Companion', 'Free Blood Pressure', 'High Blood Pressure Symptoms', 'QR Scanner & Barcode Scanner 2018', 'Camera FV-5', 'Camera MX - Free Photo & Video Camera', 'Bleacher Report: sports news, scores, & highlights', 'Cardboard', 'Kick the Buddy', 'Maps & GPS Navigation — OsmAnd', 'Beautiful Widgets Pro', 'Beautiful Widgets Free', 'HD Widgets', 'Color by Number – New Coloring Book', 'Photo Editor by Aviary', 'UNICORN - Color By Number & Pixel Art Coloring', 'Elmo Calls by Sesame Street', '420 BZ Budeze Delivery', 'BZWBK24 mobile', 'Zoosk Dating App: Meet Singles', 'Cricbuzz - Live Cricket Scores & News', 'Cheapflights – Flight Search', 'Chrome Beta', 'Chrome Dev', 'CJmall', 'Credit Karma', 'Castle Clash: Heroes of the Empire US', 'CM Launcher 3D - Theme, Wallpapers, Efficient', 'CM Locker - Security Lockscreen', 'CM Flashlight (Compass, SOS)', 'Ruler', 'QuickPic - Photo Gallery with Google Drive Support', 'Cartoon Network App', 'LEGO® TV', 'DisneyNOW – TV Shows & Games', 'Brit + Co', 'CT Scan Cross Sectional Anatomy', 'Shadow Fight 2', 'Curriculum vitae App CV Builder Free Resume Maker', 'The CW', 'CW Seed', 'Hulu: Stream TV, Movies & more', 'Cymera Camera- Photo Editor, Filter,Collage,Layout', 'Camera360 Lite - Selfie Camera', 'Mapy.cz - Cycling & Hiking offline maps', 'Face Filter, Selfie Editor - Sweet Camera', 'Metal Soldiers 2', \"COOKING MAMA Let's Cook!\", 'Run Sausage Run!', 'Knife Hit', 'DRAGON BALL LEGENDS', 'DC Comics', 'DC Super Hero Girls™', 'MARVEL Contest of Champions', 'MARVEL Strike Force', 'wetter.com - Weather and Radar', 'Babbel – Learn Languages', 'CallApp: Caller ID, Blocker & Phone Call Recorder', 'LINE Camera - Photo editor', 'Racing in Car 2', 'Google PDF Viewer', 'Periscope - Live Video', 'Dungeon Hunter Champions: Epic Online Action RPG', 'Red Bull TV: Live Sports, Music & Entertainment', 'Idle Heroes', 'Duolingo: Learn Languages Free', 'Free phone calls, free texting SMS on free number', 'Phone Tracker : Family Locator', 'My Photo Keyboard', 'Whoscall - Caller ID & Block', 'Google Sheets', 'Video Downloader', 'Google Docs', 'Any.do: To-do list, Calendar, Reminders & Planner', 'Notepad & To do list', 'Polaris Office - Word, Docs, Sheets, Slide, PDF', 'Google Keep', 'Do It Later: Tasks & To-Dos', 'Todoist: To-do lists for task management & errands', 'To-Do Calendar Planner', 'Wunderlist: To-Do List & Tasks', 'TickTick: To Do List with Reminder, Day Planner', 'ColorNote Notepad Notes', 'Apex Launcher', 'Dude Perfect 2', 'Dairy Queen', 'SONIC Drive-In', \"McDonald's\", 'Wendy’s – Food and Offers', \"Dunkin' Donuts\", 'SUBWAY®', 'Panera Bread', 'Starbucks', \"Dr. Panda & Toto's Treehouse\", 'Cache Cleaner-DU Speed Booster (booster & cleaner)', 'DU Browser—Browse fast & fun', 'Real Racing 3', 'Equestria Girls', 'My Little Pony Celebration', 'Miraculous Ladybug & Cat Noir - The Official Game', 'My Little Pony: Harmony Quest', 'PJ Masks: Moonlight Heroes', 'The Emirates App', 'Phogy, 3D Camera', 'Weather by eltiempo.es', 'The Game of Life', 'Spanish English Translator', 'Human Anatomy Atlas 2018: Complete 3D Human Body', \"Game for KIDS: KIDS match'em\", 'CBS Sports App - Scores, News, Stats & Watch Live', 'Yahoo Fantasy Sports - #1 Rated Fantasy App', 'Dictionary - Merriam-Webster', 'Edmodo', 'busuu: Learn Languages - Spanish, English & More', 'Chess Free', 'Oxford Dictionary of English : Free', 'Masha and the Bear Child Games', 'Frozen Free Fall', 'Episode - Choose Your Story', 'The NBC App - Watch Live TV and Full Episodes', 'Moto File Manager', 'HBO NOW: Stream TV & Movies', 'Moneycontrol – Stocks, Sensex, Mutual Funds, IPO', 'CNBC: Breaking Business News & Live Market Data', 'Google Earth', 'Groupon - Shop Deals, Discounts & Coupons', 'Google News', 'Amino: Communities and Chats', 'Nike Training Club - Workouts & Fitness Plans', 'Hangouts Dialer - Call Phones', 'Offline Maps & Navigation', 'Strawberry Shortcake Ice Cream Island', 'Home Workout - No Equipment', 'Home Security Camera WardenCam - reuse old phones', 'Food Network', 'Web Browser for Android', 'Airway Ex - Intubate. Anesthetize. Train.', 'FilterGrid - Cam&Photo Editor', 'Messages, Text and Video Chat for Messenger', 'All Social Networks', 'Premier League - Official App', 'Farm Heroes Saga', 'ESPN Fantasy Sports', 'Fallout Shelter', 'Facebook Pages Manager', 'Facebook Ads Manager', 'Who Viewed My Facebook Profile - Stalkers Visitors', 'The 5th Stand', 'Garena Free Fire', 'osmino Wi-Fi: free WiFi', 'Fun Kid Racing - Motocross', 'Podcast App: Free & Offline Podcasts by Player FM', 'Motorola FM Radio', 'FarmersOnly Dating', 'Firefox Focus: The privacy browser', 'FP Notebook', 'Slickdeals: Coupons & Shopping', 'AAFP']\n"
     ]
    }
   ],
   "source": [
    "def find_duplicates(data_set, name):\n",
    "    unique_apps = []\n",
    "    duplicate_apps = []\n",
    "    for app in data_set:\n",
    "        if app[name] in unique_apps:\n",
    "            duplicate_apps.append(app[name])\n",
    "        else:\n",
    "            unique_apps.append(app[name])\n",
    "    return unique_apps, duplicate_apps\n",
    "\n",
    "unique_apps_ios, duplicate_apps_ios = find_duplicates(ios_data[1:], 2)\n",
    "unique_apps_google, duplicate_apps_google = find_duplicates(google_data[1:], 0)\n",
    "\n",
    "print('There are ' + str(len(duplicate_apps_ios)) + ' duplicates in the Apple App Store.')\n",
    "print('There are ' + str(len(duplicate_apps_google)) + ' duplicates in the Google Play Store.\\n')\n",
    "\n",
    "print('The duplicate apps in the IOS store are: \\n\\n' + str(duplicate_apps_ios) + '\\n')\n",
    "print('And the duplicate apps in the Google Play Store are: \\n\\n' + str(duplicate_apps_google))"
   ]
  },
  {
   "cell_type": "code",
   "execution_count": 7,
   "metadata": {},
   "outputs": [
    {
     "name": "stdout",
     "output_type": "stream",
     "text": [
      "True\n",
      "\n",
      "9659\n"
     ]
    }
   ],
   "source": [
    "reviews_max = {}\n",
    "\n",
    "for app in google_data[1:]:\n",
    "    name = app[0]\n",
    "    n_reviews = float(app[3])\n",
    "    if name in reviews_max and reviews_max[name] < n_reviews:\n",
    "        reviews_max[name] = n_reviews\n",
    "    elif name not in reviews_max:\n",
    "        reviews_max[name] = n_reviews\n",
    "    \n",
    "if len(reviews_max) == len(google_data[1:]) - len(duplicate_apps_google):\n",
    "    print(True)\n",
    "else:\n",
    "    print(False)\n",
    "\n",
    "print('\\n' + str(len(reviews_max)))"
   ]
  },
  {
   "cell_type": "code",
   "execution_count": 8,
   "metadata": {},
   "outputs": [
    {
     "name": "stdout",
     "output_type": "stream",
     "text": [
      "['App', 'Category', 'Rating', 'Reviews', 'Size', 'Installs', 'Type', 'Price', 'Content Rating', 'Genres', 'Last Updated', 'Current Ver', 'Android Ver']\n",
      "\n",
      "\n",
      "['Photo Editor & Candy Camera & Grid & ScrapBook', 'ART_AND_DESIGN', '4.1', '159', '19M', '10,000+', 'Free', '0', 'Everyone', 'Art & Design', 'January 7, 2018', '1.0.0', '4.0.3 and up']\n",
      "\n",
      "\n",
      "['U Launcher Lite – FREE Live Cool Themes, Hide Apps', 'ART_AND_DESIGN', '4.7', '87510', '8.7M', '5,000,000+', 'Free', '0', 'Everyone', 'Art & Design', 'August 1, 2018', '1.2.4', '4.0.3 and up']\n",
      "\n",
      "\n",
      "['Sketch - Draw & Paint', 'ART_AND_DESIGN', '4.5', '215644', '25M', '50,000,000+', 'Free', '0', 'Teen', 'Art & Design', 'June 8, 2018', 'Varies with device', '4.2 and up']\n",
      "\n",
      "\n",
      "['Pixel Draw - Number Art Coloring Book', 'ART_AND_DESIGN', '4.3', '967', '2.8M', '100,000+', 'Free', '0', 'Everyone', 'Art & Design;Creativity', 'June 20, 2018', '1.1', '4.4 and up']\n",
      "\n",
      "\n",
      "['Paper flowers instructions', 'ART_AND_DESIGN', '4.4', '167', '5.6M', '50,000+', 'Free', '0', 'Everyone', 'Art & Design', 'March 26, 2017', '1.0', '2.3 and up']\n",
      "\n",
      "\n",
      "Number of rows minus the header: 9659\n",
      "Number of columns: 13\n"
     ]
    }
   ],
   "source": [
    "android_clean = []\n",
    "already_added = []\n",
    "\n",
    "for app in google_data[1:]:\n",
    "    name = app[0]\n",
    "    n_reviews = float(app[3])\n",
    "    if n_reviews == reviews_max[name] and name not in already_added:\n",
    "        android_clean.append(app)\n",
    "        already_added.append(name)\n",
    "        \n",
    "android_clean.insert(0, google_data[0])\n",
    "\n",
    "explore_data(android_clean, 0, 6, True)"
   ]
  },
  {
   "cell_type": "code",
   "execution_count": 9,
   "metadata": {},
   "outputs": [
    {
     "name": "stdout",
     "output_type": "stream",
     "text": [
      "The duplicate apps in the IOS store are: \n",
      "\n",
      "['VR Roller Coaster', 'Mannequin Challenge']\n",
      "\n",
      "True\n",
      "\n",
      "7195\n"
     ]
    }
   ],
   "source": [
    "ios_reviews_max = {}\n",
    "\n",
    "for app in ios_data[1:]:\n",
    "    name = app[2]\n",
    "    n_reviews = float(app[6])\n",
    "    if name in ios_reviews_max and ios_reviews_max[name] < n_reviews:\n",
    "        ios_reviews_max[name] = n_reviews\n",
    "    elif name not in ios_reviews_max:\n",
    "        ios_reviews_max[name] = n_reviews\n",
    "    \n",
    "print('The duplicate apps in the IOS store are: \\n\\n' + str(duplicate_apps_ios) + '\\n')    \n",
    "    \n",
    "if len(ios_reviews_max) == len(ios_data[1:]) - len(duplicate_apps_ios):\n",
    "    print(True)\n",
    "else:\n",
    "    print(False)\n",
    "    \n",
    "print('\\n' + str(len(ios_reviews_max)))"
   ]
  },
  {
   "cell_type": "code",
   "execution_count": 10,
   "metadata": {},
   "outputs": [
    {
     "name": "stdout",
     "output_type": "stream",
     "text": [
      "['', 'id', 'track_name', 'size_bytes', 'currency', 'price', 'rating_count_tot', 'rating_count_ver', 'user_rating', 'user_rating_ver', 'ver', 'cont_rating', 'prime_genre', 'sup_devices.num', 'ipadSc_urls.num', 'lang.num', 'vpp_lic']\n",
      "\n",
      "\n",
      "['1', '281656475', 'PAC-MAN Premium', '100788224', 'USD', '3.99', '21292', '26', '4', '4.5', '6.3.5', '4+', 'Games', '38', '5', '10', '1']\n",
      "\n",
      "\n",
      "['2', '281796108', 'Evernote - stay organized', '158578688', 'USD', '0', '161065', '26', '4', '3.5', '8.2.2', '4+', 'Productivity', '37', '5', '23', '1']\n",
      "\n",
      "\n",
      "['3', '281940292', 'WeatherBug - Local Weather, Radar, Maps, Alerts', '100524032', 'USD', '0', '188583', '2822', '3.5', '4.5', '5.0.0', '4+', 'Weather', '37', '5', '3', '1']\n",
      "\n",
      "\n",
      "['4', '282614216', 'eBay: Best App to Buy, Sell, Save! Online Shopping', '128512000', 'USD', '0', '262241', '649', '4', '4.5', '5.10.0', '12+', 'Shopping', '37', '5', '9', '1']\n",
      "\n",
      "\n",
      "['5', '282935706', 'Bible', '92774400', 'USD', '0', '985920', '5320', '4.5', '5', '7.5.1', '4+', 'Reference', '37', '5', '45', '1']\n",
      "\n",
      "\n",
      "Number of rows minus the header: 7195\n",
      "Number of columns: 17\n"
     ]
    }
   ],
   "source": [
    "ios_clean = []\n",
    "ios_already_added = []\n",
    "\n",
    "for app in ios_data[1:]:\n",
    "    name = app[2]\n",
    "    n_reviews = float(app[6])\n",
    "    if n_reviews == ios_reviews_max[name] and name not in ios_already_added:\n",
    "        ios_clean.append(app)\n",
    "        ios_already_added.append(name)\n",
    "        \n",
    "ios_clean.insert(0, ios_data[0])\n",
    "\n",
    "explore_data(ios_clean, 0, 6, True)"
   ]
  },
  {
   "cell_type": "markdown",
   "metadata": {},
   "source": [
    "## Data Cleaning (b)\n",
    "I also need to ensure that all of the apps that I am analyzing are in plain English, since our customers will generally prefer English. The best way to do this is to find app names that only contain English ASCII characters. However, some common non-English characters, like emojis and other symbols, fall out of this category, yet are easy to understand. Therefore, I will allow a maximum of 3 non-English ASCII characters in each app name in order to reasonably clean the data."
   ]
  },
  {
   "cell_type": "code",
   "execution_count": 11,
   "metadata": {},
   "outputs": [
    {
     "name": "stdout",
     "output_type": "stream",
     "text": [
      "True\n",
      "True\n",
      "True\n",
      "False\n",
      "\n",
      "PAC-MAN Premium\n",
      "True\n"
     ]
    }
   ],
   "source": [
    "def character_removal(string):\n",
    "    amount = 0\n",
    "    for char in string:\n",
    "        if ord(char) > 127:\n",
    "            amount += 1\n",
    "    if amount >= 3:\n",
    "        return False\n",
    "    return True\n",
    "\n",
    "print(character_removal('Instagram'))\n",
    "print(character_removal('Docs To Go™ Free Office Suite'))\n",
    "print(character_removal('Instachat 😜'))\n",
    "print(character_removal('爱奇艺PPS -《欢乐颂2》电视剧热播'))\n",
    "\n",
    "print('\\n' + str(ios_clean[1][2]))\n",
    "print(character_removal(ios_clean[1][2]))"
   ]
  },
  {
   "cell_type": "code",
   "execution_count": 12,
   "metadata": {},
   "outputs": [
    {
     "name": "stdout",
     "output_type": "stream",
     "text": [
      "[['1', '281656475', 'PAC-MAN Premium', '100788224', 'USD', '3.99', '21292', '26', '4', '4.5', '6.3.5', '4+', 'Games', '38', '5', '10', '1'], ['2', '281796108', 'Evernote - stay organized', '158578688', 'USD', '0', '161065', '26', '4', '3.5', '8.2.2', '4+', 'Productivity', '37', '5', '23', '1'], ['3', '281940292', 'WeatherBug - Local Weather, Radar, Maps, Alerts', '100524032', 'USD', '0', '188583', '2822', '3.5', '4.5', '5.0.0', '4+', 'Weather', '37', '5', '3', '1']]\n",
      "\n",
      "\n",
      "[['Photo Editor & Candy Camera & Grid & ScrapBook', 'ART_AND_DESIGN', '4.1', '159', '19M', '10,000+', 'Free', '0', 'Everyone', 'Art & Design', 'January 7, 2018', '1.0.0', '4.0.3 and up'], ['U Launcher Lite – FREE Live Cool Themes, Hide Apps', 'ART_AND_DESIGN', '4.7', '87510', '8.7M', '5,000,000+', 'Free', '0', 'Everyone', 'Art & Design', 'August 1, 2018', '1.2.4', '4.0.3 and up'], ['Sketch - Draw & Paint', 'ART_AND_DESIGN', '4.5', '215644', '25M', '50,000,000+', 'Free', '0', 'Teen', 'Art & Design', 'June 8, 2018', 'Varies with device', '4.2 and up']]\n",
      "\n",
      "\n",
      "Number of Apps in English in the Apple App Store dataset: 6153\n",
      "Number of Apps in English in the Google Play Store dataset: 9597\n"
     ]
    }
   ],
   "source": [
    "ios_english = []\n",
    "google_english = []\n",
    "\n",
    "def foreign_language_removal(data_set, name_index, english_set):\n",
    "    for app in data_set:\n",
    "        name = app[name_index]\n",
    "        boolean = character_removal(name)\n",
    "        if boolean == True:\n",
    "            english_set.append(app)\n",
    "    return english_set\n",
    "\n",
    "foreign_language_removal(ios_clean[1:], 2, ios_english)\n",
    "foreign_language_removal(android_clean[1:], 0, google_english)\n",
    "\n",
    "print(ios_english[:3])\n",
    "print('\\n')\n",
    "print(google_english[:3])\n",
    "print('\\n')\n",
    "print('Number of Apps in English in the Apple App Store dataset: ' + str(len(ios_english)))\n",
    "print('Number of Apps in English in the Google Play Store dataset: ' + str(len(google_english)))"
   ]
  },
  {
   "cell_type": "markdown",
   "metadata": {},
   "source": [
    "## Data Cleaning (c)\n",
    "Now I will reduce the dataset to only free apps."
   ]
  },
  {
   "cell_type": "code",
   "execution_count": 13,
   "metadata": {},
   "outputs": [
    {
     "name": "stdout",
     "output_type": "stream",
     "text": [
      "Number of Free Apps in Apple App Store dataset: 3201\n",
      "Number of Free Apps in Google Play Store dataset: 8848\n"
     ]
    }
   ],
   "source": [
    "ios_free_apps = []\n",
    "google_free_apps = []\n",
    "\n",
    "def isolate_free_apps(data_set, price_index, price_type_index, free_app_set):\n",
    "    for app in data_set:\n",
    "        price = app[price_index]\n",
    "        price = float(str(price).replace('$',''))\n",
    "        price_type = app[price_type_index]\n",
    "        if price == 0 or price_type == 'Free':\n",
    "            free_app_set.append(app)\n",
    "    return free_app_set\n",
    "\n",
    "isolate_free_apps(ios_english, 5, 5, ios_free_apps)\n",
    "isolate_free_apps(google_english, 7, 6, google_free_apps)\n",
    "\n",
    "print('Number of Free Apps in Apple App Store dataset: ' + str(len(ios_free_apps)))\n",
    "print('Number of Free Apps in Google Play Store dataset: ' + str(len(google_free_apps)))"
   ]
  },
  {
   "cell_type": "markdown",
   "metadata": {},
   "source": [
    "## Data Analysis (a)\n",
    "I will determine which genres are most common in each dataset."
   ]
  },
  {
   "cell_type": "code",
   "execution_count": 14,
   "metadata": {},
   "outputs": [
    {
     "name": "stdout",
     "output_type": "stream",
     "text": [
      "There are 23 genres in the Apple App Store dataset.\n",
      "There are 33 genres in the Google Play Store dataset based on the Category column.\n",
      "There are 114 genres in the Google Play Store dataset based on the Genres column.\n",
      "\n",
      "Apple App Store genres:\n",
      "{'Productivity': 56, 'Weather': 28, 'Shopping': 83, 'Reference': 17, 'Finance': 35, 'Music': 66, 'Utilities': 79, 'Travel': 40, 'Social Networking': 106, 'Sports': 69, 'Health & Fitness': 65, 'Games': 1864, 'Food & Drink': 26, 'News': 43, 'Book': 12, 'Photo & Video': 160, 'Entertainment': 251, 'Business': 17, 'Lifestyle': 50, 'Education': 118, 'Navigation': 6, 'Medical': 6, 'Catalogs': 4}\n",
      "\n",
      "Google Play Store genres (category column metric):\n",
      "{'ART_AND_DESIGN': 57, 'AUTO_AND_VEHICLES': 82, 'BEAUTY': 53, 'BOOKS_AND_REFERENCE': 189, 'BUSINESS': 407, 'COMICS': 54, 'COMMUNICATION': 286, 'DATING': 165, 'EDUCATION': 103, 'ENTERTAINMENT': 85, 'EVENTS': 63, 'FINANCE': 328, 'FOOD_AND_DRINK': 110, 'HEALTH_AND_FITNESS': 273, 'HOUSE_AND_HOME': 71, 'LIBRARIES_AND_DEMO': 83, 'LIFESTYLE': 344, 'GAME': 858, 'FAMILY': 1676, 'MEDICAL': 313, 'SOCIAL': 236, 'SHOPPING': 199, 'PHOTOGRAPHY': 261, 'SPORTS': 300, 'TRAVEL_AND_LOCAL': 207, 'TOOLS': 748, 'PERSONALIZATION': 294, 'PRODUCTIVITY': 345, 'PARENTING': 58, 'WEATHER': 70, 'VIDEO_PLAYERS': 159, 'NEWS_AND_MAGAZINES': 248, 'MAPS_AND_NAVIGATION': 123}\n",
      "\n",
      "Google Play Store genres (genres column metric):\n",
      "{'Art & Design': 53, 'Art & Design;Creativity': 6, 'Auto & Vehicles': 82, 'Beauty': 53, 'Books & Reference': 189, 'Business': 407, 'Comics': 53, 'Comics;Creativity': 1, 'Communication': 286, 'Dating': 165, 'Education': 474, 'Education;Creativity': 4, 'Education;Education': 30, 'Education;Pretend Play': 5, 'Education;Brain Games': 3, 'Entertainment': 538, 'Entertainment;Brain Games': 7, 'Entertainment;Creativity': 3, 'Entertainment;Music & Video': 15, 'Events': 63, 'Finance': 328, 'Food & Drink': 110, 'Health & Fitness': 273, 'House & Home': 71, 'Libraries & Demo': 83, 'Lifestyle': 343, 'Lifestyle;Pretend Play': 1, 'Card': 40, 'Arcade': 163, 'Puzzle': 100, 'Racing': 88, 'Sports': 306, 'Casual': 156, 'Simulation': 181, 'Adventure': 59, 'Trivia': 37, 'Action': 274, 'Word': 23, 'Role Playing': 83, 'Strategy': 81, 'Board': 34, 'Music': 18, 'Action;Action & Adventure': 9, 'Casual;Brain Games': 12, 'Educational;Creativity': 3, 'Puzzle;Brain Games': 15, 'Educational;Education': 35, 'Casual;Pretend Play': 21, 'Educational;Brain Games': 6, 'Art & Design;Pretend Play': 1, 'Educational;Pretend Play': 8, 'Entertainment;Education': 1, 'Casual;Education': 2, 'Casual;Creativity': 6, 'Casual;Action & Adventure': 12, 'Music;Music & Video': 2, 'Arcade;Pretend Play': 1, 'Adventure;Action & Adventure': 3, 'Role Playing;Action & Adventure': 3, 'Simulation;Pretend Play': 2, 'Puzzle;Creativity': 2, 'Simulation;Action & Adventure': 7, 'Racing;Action & Adventure': 15, 'Sports;Action & Adventure': 2, 'Educational;Action & Adventure': 3, 'Arcade;Action & Adventure': 11, 'Entertainment;Action & Adventure': 3, 'Art & Design;Action & Adventure': 1, 'Puzzle;Action & Adventure': 3, 'Education;Action & Adventure': 3, 'Strategy;Action & Adventure': 1, 'Music & Audio;Music & Video': 1, 'Health & Fitness;Education': 1, 'Board;Action & Adventure': 2, 'Board;Brain Games': 7, 'Casual;Music & Video': 1, 'Education;Music & Video': 3, 'Role Playing;Pretend Play': 4, 'Entertainment;Pretend Play': 2, 'Medical': 313, 'Social': 236, 'Shopping': 199, 'Photography': 261, 'Travel & Local': 206, 'Travel & Local;Action & Adventure': 1, 'Tools': 747, 'Tools;Education': 1, 'Personalization': 294, 'Productivity': 345, 'Parenting': 44, 'Parenting;Music & Video': 6, 'Parenting;Education': 7, 'Parenting;Brain Games': 1, 'Weather': 70, 'Video Players & Editors': 157, 'Video Players & Editors;Music & Video': 2, 'Video Players & Editors;Creativity': 1, 'News & Magazines': 248, 'Maps & Navigation': 123, 'Health & Fitness;Action & Adventure': 1, 'Educational': 33, 'Casino': 37, 'Trivia;Education': 1, 'Lifestyle;Education': 1, 'Card;Action & Adventure': 1, 'Books & Reference;Education': 1, 'Simulation;Education': 1, 'Puzzle;Education': 1, 'Adventure;Education': 1, 'Role Playing;Brain Games': 1, 'Strategy;Education': 1, 'Racing;Pretend Play': 1, 'Communication;Creativity': 1, 'Strategy;Creativity': 1}\n"
     ]
    }
   ],
   "source": [
    "ios_genre_dict = {}\n",
    "google_genre_dict = {}\n",
    "google_genre_dict_1 = {}\n",
    "\n",
    "# I am using two metrics to count the number of genres in the Google Play Store because there are two columns that\n",
    "# could reasonably be considered 'genre' columns: 'Category' and 'Genres.'\n",
    "\n",
    "def categorize_genres(data_set, column, genre_dict):\n",
    "    for app in data_set:\n",
    "        genre = app[column]\n",
    "        if genre in genre_dict:\n",
    "            genre_dict[genre] += 1\n",
    "        else:\n",
    "            genre_dict[genre] = 1\n",
    "    return genre_dict\n",
    "\n",
    "categorize_genres(ios_free_apps, 12, ios_genre_dict)\n",
    "categorize_genres(google_free_apps, 1, google_genre_dict)\n",
    "categorize_genres(google_free_apps, 9, google_genre_dict_1)\n",
    "\n",
    "print('There are ' + str(len(ios_genre_dict)) + ' genres in the Apple App Store dataset.')\n",
    "print('There are ' + str(len(google_genre_dict)) + ' genres in the Google Play Store dataset based on the Category column.')\n",
    "print('There are ' + str(len(google_genre_dict_1)) + ' genres in the Google Play Store dataset based on the Genres column.')\n",
    "print('\\nApple App Store genres:')\n",
    "print(ios_genre_dict)\n",
    "print('\\nGoogle Play Store genres (category column metric):')\n",
    "print(google_genre_dict)\n",
    "print('\\nGoogle Play Store genres (genres column metric):')\n",
    "print(google_genre_dict_1)"
   ]
  },
  {
   "cell_type": "code",
   "execution_count": 15,
   "metadata": {
    "scrolled": true
   },
   "outputs": [
    {
     "name": "stdout",
     "output_type": "stream",
     "text": [
      "Frequencies of various Genres in Apple App Store:\n",
      "\n",
      "Games : 58.23180256169947\n",
      "Entertainment : 7.841299593876913\n",
      "Photo & Video : 4.99843798812871\n",
      "Education : 3.6863480162449234\n",
      "Social Networking : 3.3114651671352706\n",
      "Shopping : 2.592939706341768\n",
      "Utilities : 2.4679787566385505\n",
      "Sports : 2.1555763823805063\n",
      "Music : 2.0618556701030926\n",
      "Health & Fitness : 2.0306154326772883\n",
      "Productivity : 1.7494532958450486\n",
      "Lifestyle : 1.5620118712902218\n",
      "News : 1.3433302093095907\n",
      "Travel : 1.2496094970321776\n",
      "Finance : 1.0934083099031553\n",
      "Weather : 0.8747266479225243\n",
      "Food & Drink : 0.8122461730709154\n",
      "Reference : 0.5310840362386754\n",
      "Business : 0.5310840362386754\n",
      "Book : 0.37488284910965325\n",
      "Navigation : 0.18744142455482662\n",
      "Medical : 0.18744142455482662\n",
      "Catalogs : 0.12496094970321774\n",
      "\n",
      "Frequencies of various Categories in Google Play Store:\n",
      "\n",
      "FAMILY : 18.942133815551536\n",
      "GAME : 9.697106690777577\n",
      "TOOLS : 8.453887884267631\n",
      "BUSINESS : 4.599909584086799\n",
      "PRODUCTIVITY : 3.899186256781193\n",
      "LIFESTYLE : 3.887884267631103\n",
      "FINANCE : 3.7070524412296564\n",
      "MEDICAL : 3.5375226039783\n",
      "SPORTS : 3.390596745027125\n",
      "PERSONALIZATION : 3.322784810126582\n",
      "COMMUNICATION : 3.2323688969258586\n",
      "HEALTH_AND_FITNESS : 3.0854430379746836\n",
      "PHOTOGRAPHY : 2.949819168173599\n",
      "NEWS_AND_MAGAZINES : 2.802893309222423\n",
      "SOCIAL : 2.667269439421338\n",
      "TRAVEL_AND_LOCAL : 2.3395117540687163\n",
      "SHOPPING : 2.2490958408679926\n",
      "BOOKS_AND_REFERENCE : 2.1360759493670884\n",
      "DATING : 1.8648282097649187\n",
      "VIDEO_PLAYERS : 1.7970162748643763\n",
      "MAPS_AND_NAVIGATION : 1.3901446654611211\n",
      "FOOD_AND_DRINK : 1.2432188065099457\n",
      "EDUCATION : 1.164104882459313\n",
      "ENTERTAINMENT : 0.9606690777576853\n",
      "LIBRARIES_AND_DEMO : 0.9380650994575045\n",
      "AUTO_AND_VEHICLES : 0.9267631103074141\n",
      "HOUSE_AND_HOME : 0.8024412296564195\n",
      "WEATHER : 0.7911392405063291\n",
      "EVENTS : 0.7120253164556962\n",
      "PARENTING : 0.6555153707052441\n",
      "ART_AND_DESIGN : 0.6442133815551537\n",
      "COMICS : 0.6103074141048824\n",
      "BEAUTY : 0.599005424954792\n"
     ]
    }
   ],
   "source": [
    "# The Column category in the Google Play Store dataset is much more reasonable to work with.\n",
    "\n",
    "def freq_table(dataset, index):\n",
    "    freq_table = {}\n",
    "    length = len(dataset)\n",
    "    for app in dataset:\n",
    "        column_value = app[index]\n",
    "        if column_value in freq_table:\n",
    "            freq_table[column_value] += 1\n",
    "        else:\n",
    "            freq_table[column_value] = 1\n",
    "    for key in freq_table:\n",
    "        freq_table[key] = freq_table[key]/len(dataset)\n",
    "        freq_table[key] = freq_table[key] * 100\n",
    "    return freq_table\n",
    "\n",
    "def display_table(dataset, index):\n",
    "    table = freq_table(dataset, index)\n",
    "    table_display = []\n",
    "    for key in table:\n",
    "        key_val_as_tuple = (table[key], key)\n",
    "        table_display.append(key_val_as_tuple)\n",
    "\n",
    "    table_sorted = sorted(table_display, reverse = True)\n",
    "    for entry in table_sorted:\n",
    "        print(entry[1], ':', entry[0])\n",
    "        \n",
    "print('Frequencies of various Genres in Apple App Store:\\n')\n",
    "display_table(ios_free_apps, 12)\n",
    "print('\\nFrequencies of various Categories in Google Play Store:\\n')\n",
    "display_table(google_free_apps, 1)\n"
   ]
  },
  {
   "cell_type": "markdown",
   "metadata": {},
   "source": [
    "## Data Analysis (b)\n",
    "Now I will determine which genres have the most users.\n",
    "\n",
    "For the Apple App Store, a Number of Users column is unavailable. The best column to use for this analysis, therefore, is the Total Rating Count column, since this is the best proxy for number of users.\n",
    "\n",
    "For the Google Play Store, the number of Installs is clearly the best column for this analysis. This column does not contain exact values, but categorical values (such as 10,000+ ; 100,000+ ; etc.). I will assume that the basic value given is the number of installs."
   ]
  },
  {
   "cell_type": "code",
   "execution_count": 16,
   "metadata": {},
   "outputs": [
    {
     "name": "stdout",
     "output_type": "stream",
     "text": [
      "Genres in the Apple App Store with the highest number of average ratings:\n",
      "\n",
      "Navigation: 86090.333\n",
      "Reference: 79350.471\n",
      "Social Networking: 71548.349\n",
      "Music: 57326.53\n",
      "Weather: 52279.893\n",
      "Book: 46384.917\n",
      "Food & Drink: 33333.923\n",
      "Finance: 32367.029\n",
      "Photo & Video: 28441.544\n",
      "Travel: 28243.8\n",
      "Shopping: 27230.735\n",
      "Health & Fitness: 23298.015\n",
      "Sports: 23008.899\n",
      "Games: 22910.831\n",
      "News: 21248.023\n",
      "Productivity: 21028.411\n",
      "Utilities: 19156.494\n",
      "Lifestyle: 16815.48\n",
      "Entertainment: 14195.359\n",
      "Business: 7491.118\n",
      "Education: 7003.983\n",
      "Catalogs: 4004.0\n",
      "Medical: 612.0\n"
     ]
    }
   ],
   "source": [
    "ios_free_genre_freq = freq_table(ios_free_apps, 12)\n",
    "ios_avg_number_ratings_freq = {}\n",
    "\n",
    "for genre in ios_free_genre_freq:\n",
    "    total = 0\n",
    "    len_genre = 0\n",
    "    for app in ios_free_apps:\n",
    "        genre_app = app[12]\n",
    "        if genre_app == genre:\n",
    "            number_of_ratings = float(app[6])\n",
    "            total += number_of_ratings\n",
    "            len_genre += 1\n",
    "    avg_number_of_ratings = total/len_genre\n",
    "    ios_avg_number_ratings_freq[genre] = round(avg_number_of_ratings, 3)\n",
    "\n",
    "ios_avg_number_ratings_sorted = sorted(ios_avg_number_ratings_freq.items(), key = lambda x: x[1], reverse = True)\n",
    "print('Genres in the Apple App Store with the highest number of average ratings:\\n')\n",
    "for i in ios_avg_number_ratings_sorted:\n",
    "    print(str(i[0]) + ': ' + str(i[1]))"
   ]
  },
  {
   "cell_type": "code",
   "execution_count": 17,
   "metadata": {},
   "outputs": [
    {
     "name": "stdout",
     "output_type": "stream",
     "text": [
      "Genres in the Google Play Store with the highest number of average installs: \n",
      "\n",
      "COMMUNICATION: 38590581.087\n",
      "VIDEO_PLAYERS: 24727872.453\n",
      "SOCIAL: 23253652.127\n",
      "PHOTOGRAPHY: 17840110.402\n",
      "PRODUCTIVITY: 16787331.345\n",
      "GAME: 15544014.51\n",
      "TRAVEL_AND_LOCAL: 13984077.71\n",
      "ENTERTAINMENT: 11640705.882\n",
      "TOOLS: 10830251.971\n",
      "NEWS_AND_MAGAZINES: 9549178.468\n",
      "BOOKS_AND_REFERENCE: 8814199.788\n",
      "SHOPPING: 7036877.312\n",
      "PERSONALIZATION: 5201482.612\n",
      "WEATHER: 5145550.286\n",
      "HEALTH_AND_FITNESS: 4188821.985\n",
      "MAPS_AND_NAVIGATION: 4049274.634\n",
      "FAMILY: 3695641.82\n",
      "SPORTS: 3650602.277\n",
      "ART_AND_DESIGN: 1986335.088\n",
      "FOOD_AND_DRINK: 1924897.736\n",
      "EDUCATION: 1833495.146\n",
      "BUSINESS: 1712290.147\n",
      "LIFESTYLE: 1446158.224\n",
      "FINANCE: 1387692.476\n",
      "HOUSE_AND_HOME: 1360598.042\n",
      "DATING: 854028.83\n",
      "COMICS: 832613.889\n",
      "AUTO_AND_VEHICLES: 647317.817\n",
      "LIBRARIES_AND_DEMO: 638503.735\n",
      "PARENTING: 542603.621\n",
      "BEAUTY: 513151.887\n",
      "EVENTS: 253542.222\n",
      "MEDICAL: 120550.62\n"
     ]
    }
   ],
   "source": [
    "google_free_genre_freq = freq_table(google_free_apps, 1)\n",
    "google_avg_number_installs_freq = {}\n",
    "\n",
    "for genre in google_free_genre_freq:\n",
    "    total = 0\n",
    "    len_category = 0\n",
    "    for app in google_free_apps:\n",
    "        genre_app = app[1]\n",
    "        if genre_app == genre:\n",
    "            n_installs = app[5]\n",
    "            n_installs = n_installs.replace('+','')\n",
    "            n_installs = n_installs.replace(',','')\n",
    "            n_installs = float(n_installs)\n",
    "            total += n_installs\n",
    "            len_category += 1\n",
    "    avg_number_of_installs = total/len_category\n",
    "    google_avg_number_installs_freq[genre] = round(avg_number_of_installs, 3)\n",
    "\n",
    "google_avg_number_installs_sorted = sorted(google_avg_number_installs_freq.items(), key = lambda x: x[1], reverse = True)\n",
    "print('Genres in the Google Play Store with the highest number of average installs: \\n')\n",
    "for i in google_avg_number_installs_sorted:\n",
    "    print(str(i[0]) + ': ' + str(i[1]))"
   ]
  },
  {
   "cell_type": "markdown",
   "metadata": {},
   "source": [
    "## Results\n",
    "### Genres\n",
    "The most common genres in each App Store are:\n",
    "\n",
    "Apple App Store:\n",
    "\n",
    "1. Games\n",
    "2. Entertainment\n",
    "3. Photo & Video\n",
    "4. Education\n",
    "5. Social Networking\n",
    "6. Shopping\n",
    "7. Utilities\n",
    "8. Sports\n",
    "9. Music\n",
    "10. Health & Fitness\n",
    "\n",
    "Google Play Store:\n",
    "1. Family\n",
    "2. Games\n",
    "3. Tools\n",
    "4. Business\n",
    "5. Productivity\n",
    "6. Lifestyle\n",
    "7. Finance\n",
    "8. Medical\n",
    "9. Sports\n",
    "10. Personalization\n",
    "\n",
    "The genres that have the most users in each App Store include:\n",
    "\n",
    "Apple App Store:\n",
    "1. Navigation\n",
    "2. Reference\n",
    "3. Social Networking\n",
    "4. Music\n",
    "5. Weather\n",
    "6. Book\n",
    "7. Food & Drink\n",
    "8. Finance\n",
    "9. Photo & Video\n",
    "10. Travel\n",
    "\n",
    "Google Play Store:\n",
    "1. Communication\n",
    "2. Video Players\n",
    "3. Social\n",
    "4. Photography\n",
    "5. Productivity\n",
    "6. Games\n",
    "7. Travel & Local\n",
    "8. Entertainment\n",
    "9. Tools\n",
    "10. News & Magazines"
   ]
  },
  {
   "cell_type": "markdown",
   "metadata": {},
   "source": [
    "## Conclusion\n",
    "Above, some genres appear at least 3 times in the 4 lists given. None of the genres appear in every list. \n",
    "\n",
    "3 genres appeared more than all others:\n",
    "\n",
    "<ul><li>Games</li> <li>Photo & Video</li> <li>Social Networking</li></ul>\n",
    "\n",
    "Therefore, the app that we want to create must be any one of these.\n",
    "\n",
    "If I were to cumulatively score each of these genres based on it's position in each list, then they would be order as such:\n",
    "1. Games\n",
    "2. Social Networking\n",
    "3. Photo & Video\n",
    "\n",
    "Therefore, the genre of app that will be most profitable for us is Games!"
   ]
  },
  {
   "cell_type": "code",
   "execution_count": null,
   "metadata": {},
   "outputs": [],
   "source": []
  }
 ],
 "metadata": {
  "kernelspec": {
   "display_name": "Python 3",
   "language": "python",
   "name": "python3"
  },
  "language_info": {
   "codemirror_mode": {
    "name": "ipython",
    "version": 3
   },
   "file_extension": ".py",
   "mimetype": "text/x-python",
   "name": "python",
   "nbconvert_exporter": "python",
   "pygments_lexer": "ipython3",
   "version": "3.7.4"
  }
 },
 "nbformat": 4,
 "nbformat_minor": 2
}
